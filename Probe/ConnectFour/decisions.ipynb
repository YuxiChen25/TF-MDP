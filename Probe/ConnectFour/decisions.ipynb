{
 "cells": [
  {
   "cell_type": "code",
   "execution_count": 16,
   "metadata": {},
   "outputs": [],
   "source": [
    "import pickle\n",
    "import torch\n",
    "import sys\n",
    "import os\n",
    "\n",
    "sys.path.append('../')\n",
    "\n",
    "from probe import LinearProbe, NonLinearProbe, ProbeDataset, train_probe, test_probe\n",
    "from GPT.dataset import EpisodeDataset\n",
    "from GPT.model import Config, GPTModel\n",
    "from RL_Training_ConnectFour.env import Connect4Game\n",
    "from RL_Training_ConnectFour.dqn import DQNAgent, get_random_move"
   ]
  },
  {
   "cell_type": "code",
   "execution_count": 17,
   "metadata": {},
   "outputs": [],
   "source": [
    "token_to_idx = {(i, j): i * 7 + j + 1 for i in range(6) for j in range(7)}\n",
    "token_to_idx['<pad>'] = 0  # Padding token\n",
    "\n",
    "vocab_size = 43\n",
    "block_size = 42\n",
    "embed_size = 512\n",
    "num_heads = 8\n",
    "num_layers = 8\n",
    "dropout = 0.1"
   ]
  },
  {
   "cell_type": "code",
   "execution_count": 18,
   "metadata": {},
   "outputs": [],
   "source": [
    "path = ''"
   ]
  },
  {
   "cell_type": "code",
   "execution_count": 25,
   "metadata": {},
   "outputs": [],
   "source": [
    "config = Config(vocab_size, block_size, n_layer=num_layers, n_head=num_layers, n_embd=embed_size)"
   ]
  },
  {
   "cell_type": "code",
   "execution_count": 26,
   "metadata": {},
   "outputs": [],
   "source": [
    "def take_turns(model, layer, probe, device):\n",
    "    X = []\n",
    "    while True:\n",
    "        env = Connect4Game()\n",
    "        move_1 = get_random_move(env.state.board)\n",
    "        _, done = env.step(move_1, 1)\n",
    "        if done: #hit a terminal state\n",
    "            return(env.state.find_winner(env.state.board, env.state.last_move[0], env.state.last_move[1]))\n",
    "        X.append(env.state.last_move)\n",
    "        \n",
    "        X_idx = [token_to_idx[token] for token in X]\n",
    "        X_idx = torch.tensor(X_idx, dtype=torch.long).to(device)\n",
    "        X_idx = X_idx.unsqueeze(0)\n",
    "        embedding = model(X_idx, layer)[:, len(X) - 1, :]\n",
    "        cpu_embed = embedding.cpu()\n",
    "        pred = probe.predict(cpu_embed, device)\n",
    "        possible_actions = [xy[1] for xy in get_valid_locations(self.env.state.board)]\n",
    "        mask = torch.full(pred.shape, float('-inf')).to('cuda')\n",
    "        mask[0][possible_actions] = pred[0][possible_actions]\n",
    "        move_2 = torch.argmax(mask).item()\n",
    "\n",
    "        _, done = env.step(move_2, -1)\n",
    "        if done:\n",
    "            return(env.state.find_winner(env.state.board, env.state.last_move[0], env.state.last_move[1]))\n",
    "        X.append(env.state.last_move)"
   ]
  },
  {
   "cell_type": "code",
   "execution_count": 27,
   "metadata": {},
   "outputs": [],
   "source": [
    "def decisions_validate(probe_model_path, gpt_model_path, config, linear):\n",
    "    success_count = 0\n",
    "    total_attempts = 0\n",
    "\n",
    "    device = torch.device(\"cuda\") if torch.cuda.is_available() else torch.device(\"cpu\")\n",
    "            \n",
    "    if linear:\n",
    "        probe = LinearProbe(7, 512).to(device)\n",
    "    else:\n",
    "        probe = NonLinearProbe(7, 512).to(device)\n",
    "    probe.load_state_dict(torch.load(probe_model_path, map_location = device))\n",
    "\n",
    "    model = GPTModel(config).to(device)\n",
    "    model.load_state_dict(torch.load(gpt_model_path))\n",
    "\n",
    "    itrs = 10000\n",
    "\n",
    "    for _ in range(itrs):\n",
    "        total_attempts += 1\n",
    "        try:\n",
    "            x = take_turns(model, 6, probe, device)\n",
    "            if x == -1:\n",
    "                success_count += 1\n",
    "        except (KeyError, AssertionError):\n",
    "            continue\n",
    "\n",
    "    success_rate = success_count / total_attempts   \n",
    "    print(f\"Success rate: {success_rate:.2f} ({success_count}/{total_attempts})\")\n"
   ]
  },
  {
   "cell_type": "code",
   "execution_count": 28,
   "metadata": {},
   "outputs": [
    {
     "name": "stdout",
     "output_type": "stream",
     "text": [
      "Success rate: 0.97 (7800/8000)\n",
      "Success rate: 0.66 (5251/8000)\n"
     ]
    }
   ],
   "source": [
    "decisions_validate(probe_model_path = 'Mega Probe/Layer_7/Linear_Layer_7/best_model.pth', gpt_model_path = 'Model_12.pth', config = config, linear = True)\n",
    "decisions_validate(probe_model_path = 'Mega Probe/Layer_7/Nonlinear_Layer_7/best_model.pth', gpt_model_path = 'Model_12.pth', config = config, linear = False)"
   ]
  },
  {
   "cell_type": "code",
   "execution_count": 29,
   "metadata": {},
   "outputs": [
    {
     "name": "stdout",
     "output_type": "stream",
     "text": [
      "Success rate: 0.95 (7569/8000)\n",
      "Success rate: 0.91 (7262/8000)\n"
     ]
    }
   ],
   "source": [
    "decisions_validate(probe_model_path = 'Mega Probe/Layer_8/Linear_Layer_8/best_model.pth', gpt_model_path = 'Model_12.pth', config = config, linear = True)\n",
    "decisions_validate(probe_model_path = 'Mega Probe/Layer_8/Nonlinear_Layer_8/best_model.pth', gpt_model_path = 'Model_12.pth', config = config, linear = False)"
   ]
  },
  {
   "cell_type": "code",
   "execution_count": null,
   "metadata": {},
   "outputs": [],
   "source": []
  }
 ],
 "metadata": {
  "kernelspec": {
   "display_name": "Python 3 (ipykernel)",
   "language": "python",
   "name": "python3"
  },
  "language_info": {
   "codemirror_mode": {
    "name": "ipython",
    "version": 3
   },
   "file_extension": ".py",
   "mimetype": "text/x-python",
   "name": "python",
   "nbconvert_exporter": "python",
   "pygments_lexer": "ipython3",
   "version": "3.10.12"
  }
 },
 "nbformat": 4,
 "nbformat_minor": 2
}
