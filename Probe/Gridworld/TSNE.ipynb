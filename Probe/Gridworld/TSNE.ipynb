{
 "cells": [
  {
   "cell_type": "code",
   "execution_count": 1,
   "metadata": {},
   "outputs": [
    {
     "name": "stderr",
     "output_type": "stream",
     "text": [
      "/usr/lib/python3/dist-packages/scipy/__init__.py:146: UserWarning: A NumPy version >=1.17.3 and <1.25.0 is required for this version of SciPy (detected version 1.25.2\n",
      "  warnings.warn(f\"A NumPy version >={np_minversion} and <{np_maxversion}\"\n"
     ]
    }
   ],
   "source": [
    "import pickle\n",
    "import torch\n",
    "import sys\n",
    "import os\n",
    "import matplotlib.pyplot as plt\n",
    "import numpy as np\n",
    "\n",
    "sys.path.append('../')\n",
    "\n",
    "from generate_embeddings_gridworld import get_embeddings_qvalues\n",
    "from sklearn.manifold import TSNE\n",
    "from GPT.dataset import EpisodeDataset\n",
    "from GPT.model import Config"
   ]
  },
  {
   "cell_type": "code",
   "execution_count": 2,
   "metadata": {},
   "outputs": [],
   "source": [
    "token_to_idx = {(i, j): i * 9 + j + 1 for i in range(9) for j in range(9)} | {\"up\": 82, \"down\": 83, \"left\": 84, \"right\": 85}\n",
    "token_to_idx['<pad>'] = 0  # Padding token\n",
    "\n",
    "vocab_size = 86\n",
    "block_size = 200\n",
    "embed_size = 512\n",
    "num_heads = 8\n",
    "num_layers = 8\n",
    "dropout = 0.1"
   ]
  },
  {
   "cell_type": "code",
   "execution_count": 3,
   "metadata": {},
   "outputs": [],
   "source": [
    "path = ''"
   ]
  },
  {
   "cell_type": "code",
   "execution_count": 4,
   "metadata": {},
   "outputs": [],
   "source": [
    "with open(os.path.join(path, 'train00.pkl'), 'rb') as f:\n",
    "    agent00 = pickle.load(f)\n",
    "with open(os.path.join(path, 'train08.pkl'), 'rb') as f:\n",
    "    agent08 = pickle.load(f)\n",
    "with open(os.path.join(path, 'train80.pkl'), 'rb') as f:\n",
    "    agent80 = pickle.load(f)\n",
    "with open(os.path.join(path, 'train88.pkl'), 'rb') as f:\n",
    "    agent88 = pickle.load(f)"
   ]
  },
  {
   "cell_type": "code",
   "execution_count": 5,
   "metadata": {},
   "outputs": [],
   "source": [
    "with open(os.path.join(path, 'qhist00.pkl'), 'rb') as f:\n",
    "    qhist00 = pickle.load(f)\n",
    "with open(os.path.join(path, 'qhist08.pkl'), 'rb') as f:\n",
    "    qhist08 = pickle.load(f)\n",
    "with open(os.path.join(path, 'qhist80.pkl'), 'rb') as f:\n",
    "    qhist80 = pickle.load(f)\n",
    "with open(os.path.join(path, 'qhist88.pkl'), 'rb') as f:\n",
    "    qhist88 = pickle.load(f)"
   ]
  },
  {
   "cell_type": "code",
   "execution_count": 6,
   "metadata": {},
   "outputs": [],
   "source": [
    "train_ratio = 0.8\n",
    "valid_ratio = 0.1\n",
    "\n",
    "d00 = len(agent00)\n",
    "d08 = len(agent08)\n",
    "d80 = len(agent80)\n",
    "d88 = len(agent88)\n",
    "\n",
    "train00 = agent00[:int(train_ratio * d00)]\n",
    "valid00 = agent00[int(train_ratio * d00):int((train_ratio + valid_ratio) * d00) ]\n",
    "test00 = agent00[int((train_ratio + valid_ratio) * d00): ]\n",
    "\n",
    "train08 = agent08[:int(train_ratio * d08)]\n",
    "valid08 = agent08[int(train_ratio * d08):int((train_ratio + valid_ratio) * d08) ]\n",
    "test08 = agent08[int((train_ratio + valid_ratio) * d08): ]\n",
    "\n",
    "train80 = agent80[:int(train_ratio * d80)]\n",
    "valid80 = agent80[int(train_ratio * d80):int((train_ratio + valid_ratio) * d80) ]\n",
    "test80 = agent80[int((train_ratio + valid_ratio) * d80): ]\n",
    "\n",
    "train88 = agent88[:int(train_ratio * d88)]\n",
    "valid88 = agent88[int(train_ratio * d88):int((train_ratio + valid_ratio) * d88) ]\n",
    "test88 = agent88[int((train_ratio + valid_ratio) * d88): ]"
   ]
  },
  {
   "cell_type": "code",
   "execution_count": 7,
   "metadata": {},
   "outputs": [],
   "source": [
    "qtrain00 = qhist00[:int(train_ratio * d00)]\n",
    "qvalid00 = qhist00[int(train_ratio * d00):int((train_ratio + valid_ratio) * d00)]\n",
    "qtest00 = qhist00[int((train_ratio + valid_ratio) * d00):]\n",
    "\n",
    "qtrain08 = qhist08[:int(train_ratio * d08)]\n",
    "qvalid08 = qhist08[int(train_ratio * d08):int((train_ratio + valid_ratio) * d08)]\n",
    "qtest08 = qhist08[int((train_ratio + valid_ratio) * d08):]\n",
    "\n",
    "qtrain80 = qhist80[:int(train_ratio * d80)]\n",
    "qvalid80 = qhist80[int(train_ratio * d80):int((train_ratio + valid_ratio) * d80)]\n",
    "qtest80 = qhist80[int((train_ratio + valid_ratio) * d80):]\n",
    "\n",
    "qtrain88 = qhist88[:int(train_ratio * d88)]\n",
    "qvalid88 = qhist88[int(train_ratio * d88):int((train_ratio + valid_ratio) * d88)]\n",
    "qtest88 = qhist88[int((train_ratio + valid_ratio) * d88):]"
   ]
  },
  {
   "cell_type": "code",
   "execution_count": 8,
   "metadata": {},
   "outputs": [],
   "source": [
    "# Subsample Sizes\n",
    "s = 5000\n",
    "\n",
    "train = train00[:s] + train08[:s] + train80[:s] + train88[:s]\n",
    "qtrain = qtrain00[:s] + qtrain08[:s] + qtrain80[:s] + qtrain88[:s]\n",
    "\n",
    "train_dataset = EpisodeDataset(train, token_to_idx)"
   ]
  },
  {
   "cell_type": "code",
   "execution_count": 9,
   "metadata": {},
   "outputs": [],
   "source": [
    "config = Config(vocab_size, block_size, n_layer=num_layers, n_head=num_layers, n_embd=embed_size)"
   ]
  },
  {
   "cell_type": "code",
   "execution_count": 10,
   "metadata": {},
   "outputs": [],
   "source": [
    "layers = range(1, 9)  # Layers from 1 to 8\n",
    "perplexities = [20, 30, 40]  # Perplexity values\n",
    "model_load_path = 'Model_12.pth'\n",
    "\n",
    "for layer in layers:\n",
    "    \n",
    "    embed22, _ = get_embeddings_qvalues([(2, 2)], train, qtrain, layer, config, token_to_idx, cutoff=30, model_load_path=model_load_path)\n",
    "    embed26, _ = get_embeddings_qvalues([(2, 6)], train, qtrain, layer, config, token_to_idx, cutoff=30, model_load_path=model_load_path)\n",
    "    embed62, _ = get_embeddings_qvalues([(6, 2)], train, qtrain, layer, config, token_to_idx, cutoff=30, model_load_path=model_load_path)\n",
    "    embed66, _ = get_embeddings_qvalues([(6, 6)], train, qtrain, layer, config, token_to_idx, cutoff=30, model_load_path=model_load_path)\n",
    "    \n",
    "    embeddings = embed22 + embed26 + embed62 + embed66\n",
    "    \n",
    "    labels_22 = [22] * len(embed22)\n",
    "    labels_26 = [26] * len(embed26)\n",
    "    labels_62 = [62] * len(embed62)\n",
    "    labels_66 = [66] * len(embed66)\n",
    "    \n",
    "    labels = labels_22 + labels_26 + labels_62 + labels_66\n",
    "    \n",
    "    embeddings_tensor = torch.stack(embeddings)\n",
    "    embeddings_array = embeddings_tensor.numpy().reshape((-1, 512))\n",
    "    \n",
    "    for perplexity in perplexities:\n",
    "        lwr_dimensional_embedding = TSNE(n_components=2, perplexity=perplexity, n_iter=2000, n_iter_without_progress=500).fit_transform(embeddings_array)\n",
    "        \n",
    "        color_map = {22: 'blue', 26: 'orange', 62: 'green', 66: 'purple'}\n",
    "        colors = [color_map[label] for label in labels]\n",
    "        \n",
    "        plt.figure(figsize=(10, 10), dpi=300)\n",
    "        scatter = plt.scatter(lwr_dimensional_embedding[:, 0], lwr_dimensional_embedding[:, 1], c=colors, s=50)\n",
    "        \n",
    "        legend_handles = [plt.Line2D([0], [0], marker='o', color='w', label=str(label),\n",
    "                                     markerfacecolor=color_map[label], markersize=10)\n",
    "                          for label in color_map.keys()]\n",
    "        legend_labels = ['Position ' + str(label) for label in color_map.keys()]\n",
    "        \n",
    "        plt.legend(handles=legend_handles, labels=legend_labels, title='Positions', fontsize=12)\n",
    "        \n",
    "        plt.xlabel('Dimension 1', fontsize=14)\n",
    "        plt.ylabel('Dimension 2', fontsize=14)\n",
    "        plt.title(f't-SNE Visualization (Layer {layer}, Perplexity {perplexity})', fontsize=16)\n",
    "        \n",
    "        plt.tight_layout()\n",
    "        plt.savefig(f'tsne_plot_layer{layer}_perplexity{perplexity}.png')\n",
    "        plt.close()"
   ]
  }
 ],
 "metadata": {
  "kernelspec": {
   "display_name": "Python 3 (ipykernel)",
   "language": "python",
   "name": "python3"
  },
  "language_info": {
   "codemirror_mode": {
    "name": "ipython",
    "version": 3
   },
   "file_extension": ".py",
   "mimetype": "text/x-python",
   "name": "python",
   "nbconvert_exporter": "python",
   "pygments_lexer": "ipython3",
   "version": "3.10.12"
  }
 },
 "nbformat": 4,
 "nbformat_minor": 2
}
