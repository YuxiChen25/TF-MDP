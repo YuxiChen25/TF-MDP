{
 "cells": [
  {
   "cell_type": "code",
   "execution_count": 2,
   "metadata": {},
   "outputs": [],
   "source": [
    "import os\n",
    "import sys\n",
    "import pickle\n",
    "import shutil\n",
    "import torch\n",
    "\n",
    "sys.path.append('../')\n",
    "\n",
    "from accelerate import Accelerator, notebook_launcher\n",
    "from dataset import EpisodeDataset, collate_fn\n",
    "from model import Config, GPTModel\n",
    "from trainer import train_model, validate_model\n",
    "from torch.utils.data import DataLoader"
   ]
  },
  {
   "cell_type": "code",
   "execution_count": 3,
   "metadata": {},
   "outputs": [],
   "source": [
    "token_to_idx = {(i, j): i * 9 + j + 1 for i in range(9) for j in range(9)} | {\"up\": 82, \"down\": 83, \"left\": 84, \"right\": 85}"
   ]
  },
  {
   "cell_type": "code",
   "execution_count": 4,
   "metadata": {},
   "outputs": [],
   "source": [
    "token_to_idx['<pad>'] = 0  # Padding token\n",
    "\n",
    "vocab_size = 86\n",
    "block_size = 200\n",
    "embed_size = 512\n",
    "num_heads = 8\n",
    "num_layers = 8\n",
    "dropout = 0.1"
   ]
  },
  {
   "cell_type": "code",
   "execution_count": 5,
   "metadata": {},
   "outputs": [],
   "source": [
    "path = ''"
   ]
  },
  {
   "cell_type": "code",
   "execution_count": 6,
   "metadata": {},
   "outputs": [],
   "source": [
    "with open(os.path.join(path, 'train00.pkl'), 'rb') as f:\n",
    "    agent00 = pickle.load(f)\n",
    "with open(os.path.join(path, 'train08.pkl'), 'rb') as f:\n",
    "    agent08 = pickle.load(f)\n",
    "with open(os.path.join(path, 'train80.pkl'), 'rb') as f:\n",
    "    agent80 = pickle.load(f)\n",
    "with open(os.path.join(path, 'train88.pkl'), 'rb') as f:\n",
    "    agent88 = pickle.load(f)"
   ]
  },
  {
   "cell_type": "code",
   "execution_count": 7,
   "metadata": {},
   "outputs": [],
   "source": [
    "train_ratio = 0.8\n",
    "valid_ratio = 0.1\n",
    "\n",
    "d00 = len(agent00)\n",
    "d08 = len(agent08)\n",
    "d80 = len(agent80)\n",
    "d88 = len(agent88)\n",
    "\n",
    "train00 = agent00[:int(train_ratio * d00)]\n",
    "valid00 = agent00[int(train_ratio * d00):int((train_ratio + valid_ratio) * d00) ]\n",
    "test00 = agent00[int((train_ratio + valid_ratio) * d00): ]\n",
    "\n",
    "train08 = agent08[:int(train_ratio * d08)]\n",
    "valid08 = agent08[int(train_ratio * d08):int((train_ratio + valid_ratio) * d08) ]\n",
    "test08 = agent08[int((train_ratio + valid_ratio) * d08): ]\n",
    "\n",
    "train80 = agent80[:int(train_ratio * d80)]\n",
    "valid80 = agent80[int(train_ratio * d80):int((train_ratio + valid_ratio) * d80) ]\n",
    "test80 = agent80[int((train_ratio + valid_ratio) * d80): ]\n",
    "\n",
    "train88 = agent88[:int(train_ratio * d88)]\n",
    "valid88 = agent88[int(train_ratio * d88):int((train_ratio + valid_ratio) * d88) ]\n",
    "test88 = agent88[int((train_ratio + valid_ratio) * d88): ]"
   ]
  },
  {
   "cell_type": "code",
   "execution_count": 8,
   "metadata": {},
   "outputs": [
    {
     "name": "stdout",
     "output_type": "stream",
     "text": [
      "1588602\n",
      "198575\n",
      "198577\n"
     ]
    }
   ],
   "source": [
    "train = train00 + train08 + train80 + train88\n",
    "valid = valid00 + valid08 + valid80 + valid88\n",
    "test = test00 + test08 + test80 + test88\n",
    "\n",
    "print(len(train))\n",
    "print(len(valid))\n",
    "print(len(test))"
   ]
  },
  {
   "cell_type": "code",
   "execution_count": 9,
   "metadata": {},
   "outputs": [],
   "source": [
    "train_dataset = EpisodeDataset(train, token_to_idx)\n",
    "valid_dataset = EpisodeDataset(valid, token_to_idx)\n",
    "test_dataset = EpisodeDataset(test, token_to_idx)"
   ]
  },
  {
   "cell_type": "code",
   "execution_count": 10,
   "metadata": {},
   "outputs": [],
   "source": [
    "def train_main(save_directory = None, epochs = 15):\n",
    "    \n",
    "    accelerator = Accelerator()\n",
    "\n",
    "    train_loader = DataLoader(train_dataset, batch_size=32, shuffle=True, collate_fn=collate_fn)\n",
    "    valid_loader = DataLoader(valid_dataset, batch_size=32, shuffle=True, collate_fn=collate_fn)\n",
    "\n",
    "    config = Config(vocab_size, block_size, n_layer=num_layers, n_head=num_layers, n_embd=embed_size)\n",
    "    model = GPTModel(config)\n",
    "\n",
    "    optimizer = torch.optim.AdamW(model.parameters(), lr=0.0001, weight_decay=0.01)\n",
    "    scheduler = torch.optim.lr_scheduler.CosineAnnealingLR(optimizer, T_max = epochs)\n",
    "    \n",
    "    train_loader, valid_loader, model, scheduler, optimizer = accelerator.prepare(train_loader, valid_loader, model, scheduler, optimizer)\n",
    "\n",
    "    epoch = 0\n",
    "\n",
    "    model_path = None\n",
    "    min_loss = 1e10\n",
    "    \n",
    "    for epoch in range(epochs):\n",
    "        accelerator.print(f'Epoch {epoch}')\n",
    "\n",
    "        train_model(model, train_loader, optimizer, accelerator)\n",
    "        valid_loss = validate_model(model, valid_loader, accelerator)\n",
    "        scheduler.step()\n",
    "\n",
    "        if accelerator.is_main_process:\n",
    "            print(f'Validation Loss: {valid_loss:.8f}')\n",
    "\n",
    "            model_save_path = f\"Model_{epoch+1}.pth\"\n",
    "            accelerator.save(accelerator.unwrap_model(model).state_dict(), model_save_path)\n",
    "\n",
    "            if valid_loss < min_loss:\n",
    "                min_loss = valid_loss\n",
    "                model_path = model_save_path\n",
    "\n",
    "        accelerator.wait_for_everyone()\n",
    "\n",
    "    if accelerator.is_main_process:\n",
    "        shutil.copy(model_path, save_directory)\n"
   ]
  },
  {
   "cell_type": "code",
   "execution_count": 12,
   "metadata": {},
   "outputs": [
    {
     "name": "stdout",
     "output_type": "stream",
     "text": [
      "Launching training on 4 GPUs.\n",
      "Epoch 0\n"
     ]
    },
    {
     "name": "stderr",
     "output_type": "stream",
     "text": [
      "Training: 100%|██████████| 12411/12411 [21:04<00:00,  9.81it/s]\n",
      "\n",
      "\n",
      "\n"
     ]
    },
    {
     "name": "stdout",
     "output_type": "stream",
     "text": [
      "Training Loss: 0.5037913918495178\n",
      "Validation Loss: 0.47267327\n",
      "Epoch 1"
     ]
    },
    {
     "name": "stderr",
     "output_type": "stream",
     "text": [
      "Training:   0%|          | 0/12411 [00:00<?, ?it/s]"
     ]
    },
    {
     "name": "stdout",
     "output_type": "stream",
     "text": [
      "\n"
     ]
    },
    {
     "name": "stderr",
     "output_type": "stream",
     "text": [
      "Training: 100%|██████████| 12411/12411 [21:05<00:00,  9.80it/s]\n",
      "\n",
      "\n",
      "Training: 100%|██████████| 12411/12411 [21:05<00:00,  9.80it/s]\n"
     ]
    },
    {
     "name": "stdout",
     "output_type": "stream",
     "text": [
      "Training Loss: 0.46917539834976196\n",
      "Validation Loss: 0.46782213\n",
      "Epoch 2"
     ]
    },
    {
     "name": "stderr",
     "output_type": "stream",
     "text": [
      "Training:   0%|          | 0/12411 [00:00<?, ?it/s]"
     ]
    },
    {
     "name": "stdout",
     "output_type": "stream",
     "text": [
      "\n"
     ]
    },
    {
     "name": "stderr",
     "output_type": "stream",
     "text": [
      "Training: 100%|██████████| 12411/12411 [21:06<00:00,  9.80it/s]\n",
      "\n",
      "\n",
      "\n"
     ]
    },
    {
     "name": "stdout",
     "output_type": "stream",
     "text": [
      "Training Loss: 0.46598953008651733\n",
      "Validation Loss: 0.46719846\n",
      "Epoch 3"
     ]
    },
    {
     "name": "stderr",
     "output_type": "stream",
     "text": [
      "Training:   0%|          | 0/12411 [00:00<?, ?it/s]"
     ]
    },
    {
     "name": "stdout",
     "output_type": "stream",
     "text": [
      "\n"
     ]
    },
    {
     "name": "stderr",
     "output_type": "stream",
     "text": [
      "Training: 100%|██████████| 12411/12411 [21:02<00:00,  9.83it/s]\n",
      "\n",
      "\n",
      "\n"
     ]
    },
    {
     "name": "stdout",
     "output_type": "stream",
     "text": [
      "Training Loss: 0.4646003246307373\n",
      "Validation Loss: 0.46600494\n",
      "Epoch 4"
     ]
    },
    {
     "name": "stderr",
     "output_type": "stream",
     "text": [
      "Training:   0%|          | 0/12411 [00:00<?, ?it/s]"
     ]
    },
    {
     "name": "stdout",
     "output_type": "stream",
     "text": [
      "\n"
     ]
    },
    {
     "name": "stderr",
     "output_type": "stream",
     "text": [
      "Training: 100%|██████████| 12411/12411 [21:01<00:00,  9.84it/s]\n",
      "\n",
      "Training: 100%|██████████| 12411/12411 [21:01<00:00,  9.84it/s]\n",
      "\n"
     ]
    },
    {
     "name": "stdout",
     "output_type": "stream",
     "text": [
      "Training Loss: 0.46415749192237854\n",
      "Validation Loss: 0.46596977\n",
      "Epoch 5"
     ]
    },
    {
     "name": "stderr",
     "output_type": "stream",
     "text": [
      "Training:   0%|          | 0/12411 [00:00<?, ?it/s]"
     ]
    },
    {
     "name": "stdout",
     "output_type": "stream",
     "text": [
      "\n"
     ]
    },
    {
     "name": "stderr",
     "output_type": "stream",
     "text": [
      "Training: 100%|██████████| 12411/12411 [21:04<00:00,  9.82it/s]\n",
      "Training: 100%|██████████| 12411/12411 [21:04<00:00,  9.82it/s]\n",
      "\n",
      "\n"
     ]
    },
    {
     "name": "stdout",
     "output_type": "stream",
     "text": [
      "Training Loss: 0.46470674872398376\n",
      "Validation Loss: 0.46652344\n",
      "Epoch 6"
     ]
    },
    {
     "name": "stderr",
     "output_type": "stream",
     "text": [
      "Training:   0%|          | 0/12411 [00:00<?, ?it/s]"
     ]
    },
    {
     "name": "stdout",
     "output_type": "stream",
     "text": [
      "\n"
     ]
    },
    {
     "name": "stderr",
     "output_type": "stream",
     "text": [
      "Training: 100%|██████████| 12411/12411 [21:02<00:00,  9.83it/s]\n",
      "\n",
      "\n",
      "\n"
     ]
    },
    {
     "name": "stdout",
     "output_type": "stream",
     "text": [
      "Training Loss: 0.465568482875824\n",
      "Validation Loss: 0.46668565\n",
      "Epoch 7"
     ]
    },
    {
     "name": "stderr",
     "output_type": "stream",
     "text": [
      "Training:   0%|          | 0/12411 [00:00<?, ?it/s]"
     ]
    },
    {
     "name": "stdout",
     "output_type": "stream",
     "text": [
      "\n"
     ]
    },
    {
     "name": "stderr",
     "output_type": "stream",
     "text": [
      "Training: 100%|██████████| 12411/12411 [21:03<00:00,  9.83it/s]\n",
      "\n",
      "\n",
      "\n"
     ]
    },
    {
     "name": "stdout",
     "output_type": "stream",
     "text": [
      "Training Loss: 0.4658709466457367\n",
      "Validation Loss: 0.46701115\n",
      "Epoch 8"
     ]
    },
    {
     "name": "stderr",
     "output_type": "stream",
     "text": [
      "Training:   0%|          | 0/12411 [00:00<?, ?it/s]"
     ]
    },
    {
     "name": "stdout",
     "output_type": "stream",
     "text": [
      "\n"
     ]
    },
    {
     "name": "stderr",
     "output_type": "stream",
     "text": [
      "Training: 100%|██████████| 12411/12411 [21:02<00:00,  9.83it/s]\n",
      "\n",
      "\n",
      "\n"
     ]
    },
    {
     "name": "stdout",
     "output_type": "stream",
     "text": [
      "Training Loss: 0.46543562412261963\n",
      "Validation Loss: 0.46701172\n",
      "Epoch 9"
     ]
    },
    {
     "name": "stderr",
     "output_type": "stream",
     "text": [
      "Training:   0%|          | 0/12411 [00:00<?, ?it/s]"
     ]
    },
    {
     "name": "stdout",
     "output_type": "stream",
     "text": [
      "\n"
     ]
    },
    {
     "name": "stderr",
     "output_type": "stream",
     "text": [
      "Training: 100%|██████████| 12411/12411 [21:03<00:00,  9.82it/s]\n",
      "\n",
      "Training: 100%|██████████| 12411/12411 [21:03<00:00,  9.82it/s]\n",
      "\n"
     ]
    },
    {
     "name": "stdout",
     "output_type": "stream",
     "text": [
      "Training Loss: 0.4645695388317108\n",
      "Validation Loss: 0.46618474\n",
      "Epoch 10"
     ]
    },
    {
     "name": "stderr",
     "output_type": "stream",
     "text": [
      "Training:   0%|          | 0/12411 [00:00<?, ?it/s]"
     ]
    },
    {
     "name": "stdout",
     "output_type": "stream",
     "text": [
      "\n"
     ]
    },
    {
     "name": "stderr",
     "output_type": "stream",
     "text": [
      "Training: 100%|██████████| 12411/12411 [21:03<00:00,  9.83it/s]\n",
      "\n",
      "\n",
      "\n"
     ]
    },
    {
     "name": "stdout",
     "output_type": "stream",
     "text": [
      "Training Loss: 0.46356722712516785\n",
      "Validation Loss: 0.46592587\n",
      "Epoch 11"
     ]
    },
    {
     "name": "stderr",
     "output_type": "stream",
     "text": [
      "Training:   0%|          | 0/12411 [00:00<?, ?it/s]"
     ]
    },
    {
     "name": "stdout",
     "output_type": "stream",
     "text": [
      "\n"
     ]
    },
    {
     "name": "stderr",
     "output_type": "stream",
     "text": [
      "Training: 100%|██████████| 12411/12411 [21:01<00:00,  8.37it/s]\n",
      "\n",
      "Training: 100%|██████████| 12411/12411 [21:01<00:00,  9.84it/s]\n",
      "\n"
     ]
    },
    {
     "name": "stdout",
     "output_type": "stream",
     "text": [
      "Training Loss: 0.4629788100719452\n",
      "Validation Loss: 0.46569046\n",
      "Epoch 12"
     ]
    },
    {
     "name": "stderr",
     "output_type": "stream",
     "text": [
      "Training:   0%|          | 0/12411 [00:00<?, ?it/s]"
     ]
    },
    {
     "name": "stdout",
     "output_type": "stream",
     "text": [
      "\n"
     ]
    },
    {
     "name": "stderr",
     "output_type": "stream",
     "text": [
      "Training: 100%|██████████| 12411/12411 [21:03<00:00,  9.82it/s]\n",
      "\n",
      "Training: 100%|██████████| 12411/12411 [21:03<00:00,  9.82it/s]\n",
      "\n"
     ]
    },
    {
     "name": "stdout",
     "output_type": "stream",
     "text": [
      "Training Loss: 0.4629948139190674\n",
      "Validation Loss: 0.46567193\n",
      "Epoch 13"
     ]
    },
    {
     "name": "stderr",
     "output_type": "stream",
     "text": [
      "Training:   0%|          | 0/12411 [00:00<?, ?it/s]"
     ]
    },
    {
     "name": "stdout",
     "output_type": "stream",
     "text": [
      "\n"
     ]
    },
    {
     "name": "stderr",
     "output_type": "stream",
     "text": [
      "Training: 100%|██████████| 12411/12411 [21:02<00:00,  9.83it/s]\n",
      "\n",
      "\n",
      "\n"
     ]
    },
    {
     "name": "stdout",
     "output_type": "stream",
     "text": [
      "Training Loss: 0.4636186361312866\n",
      "Validation Loss: 0.46616063\n",
      "Epoch 14"
     ]
    },
    {
     "name": "stderr",
     "output_type": "stream",
     "text": [
      "Training:   0%|          | 0/12411 [00:00<?, ?it/s]"
     ]
    },
    {
     "name": "stdout",
     "output_type": "stream",
     "text": [
      "\n"
     ]
    },
    {
     "name": "stderr",
     "output_type": "stream",
     "text": [
      "Training: 100%|██████████| 12411/12411 [21:02<00:00,  9.83it/s]\n",
      "\n",
      "\n",
      "\n"
     ]
    },
    {
     "name": "stdout",
     "output_type": "stream",
     "text": [
      "Training Loss: 0.46427425742149353\n",
      "Validation Loss: 0.46617603\n"
     ]
    }
   ],
   "source": [
    "notebook_launcher(train_main, (os.path.join(path, 'best_model'), 15), num_processes = 4)"
   ]
  }
 ],
 "metadata": {
  "kernelspec": {
   "display_name": "Python 3 (ipykernel)",
   "language": "python",
   "name": "python3"
  },
  "language_info": {
   "codemirror_mode": {
    "name": "ipython",
    "version": 3
   },
   "file_extension": ".py",
   "mimetype": "text/x-python",
   "name": "python",
   "nbconvert_exporter": "python",
   "pygments_lexer": "ipython3",
   "version": "3.12.1"
  }
 },
 "nbformat": 4,
 "nbformat_minor": 2
}
