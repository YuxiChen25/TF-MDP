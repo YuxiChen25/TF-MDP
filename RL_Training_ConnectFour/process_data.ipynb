{
 "cells": [
  {
   "cell_type": "code",
   "execution_count": 1,
   "metadata": {},
   "outputs": [],
   "source": [
    "import pickle\n",
    "import os\n",
    "import math"
   ]
  },
  {
   "cell_type": "code",
   "execution_count": 3,
   "metadata": {},
   "outputs": [],
   "source": [
    "#path should be what the directory of data is \n",
    "path = ''\n"
   ]
  },
  {
   "cell_type": "code",
   "execution_count": 4,
   "metadata": {},
   "outputs": [],
   "source": [
    "def load_data(path):\n",
    "    if os.path.exists(path):\n",
    "        with open(path, 'rb') as f:\n",
    "            return pickle.load(f)\n",
    "    return None"
   ]
  },
  {
   "cell_type": "code",
   "execution_count": 31,
   "metadata": {},
   "outputs": [],
   "source": [
    "def generate_xy_pair(player_1_ep, player_2_ep):\n",
    "\n",
    "    # Generates XY Pairs\n",
    "    # By Shifting Indices \n",
    "    # Off-By-One\n",
    "\n",
    "    full_game = []\n",
    "    length = len(player_1_ep)\n",
    "    max = 0\n",
    "    if len(player_1_ep) < len(player_2_ep):\n",
    "        max = 2\n",
    "    elif len(player_2_ep) < len(player_1_ep):\n",
    "        length = len(player_2_ep)\n",
    "        max = 1\n",
    "    for i in range(length):\n",
    "        full_game.append(player_1_ep[i][-1])\n",
    "        full_game.append(player_2_ep[i][-1])\n",
    "    if max == 1:\n",
    "        full_game.append(player_1_ep[-1][-1])\n",
    "    elif max == 2:\n",
    "        full_game.append(player_2_ep[-1][-1])\n",
    "    \n",
    "    q_vals = []\n",
    "    for i in range(len(full_game) - 1):\n",
    "        if i % 2 == 0: #state is player 1's move, meaning it's player 2's turn\n",
    "            q_vals.append([(full_game[i], player_2_ep[math.ceil(i / 2)][1]), player_2_ep[math.ceil(i / 2)][-1][1]])\n",
    "        else:\n",
    "            q_vals.append([(full_game[i], player_1_ep[math.ceil(i / 2)][1]), player_1_ep[math.ceil(i / 2)][-1][1]])\n",
    "\n",
    "    return (full_game[:-1], full_game[1:]), q_vals"
   ]
  },
  {
   "cell_type": "code",
   "execution_count": 32,
   "metadata": {},
   "outputs": [],
   "source": [
    "num_gpus = 8\n",
    "\n",
    "for i in range(1, num_gpus + 1):\n",
    "    j = 0\n",
    "    training_hist = []\n",
    "    q_hist = []\n",
    "    new_path_first_half = path + str(i)\n",
    "    while True:\n",
    "        new_path_second_half_1 = rf'connect_4_data\\data_agent_1_games_{j}.pkl'\n",
    "        new_path_second_half_2 = rf'connect_4_data\\data_agent_-1_games_{j}.pkl'\n",
    "        train_output_path_second_half = rf'training_data\\training_games_{j}.pkl'\n",
    "        train_output_path = os.path.join(new_path_first_half, train_output_path_second_half)\n",
    "        q_output_path_second_half = rf'training_data\\q_vals_games_{j}.pkl'\n",
    "        q_output_path = os.path.join(new_path_first_half, q_output_path_second_half)\n",
    "        games_1 = load_data(os.path.join(new_path_first_half, new_path_second_half_1))\n",
    "        if games_1 is None:\n",
    "            break\n",
    "        games_2 = load_data(os.path.join(new_path_first_half, new_path_second_half_2))\n",
    "        for k in range(len(games_1)):\n",
    "            temp_training_hist, temp_q_hist = generate_xy_pair(games_1[k], games_2[k])\n",
    "            training_hist.append(temp_training_hist)\n",
    "            q_hist.append(temp_q_hist)\n",
    "        j += 5000\n",
    "    with open(train_output_path, 'wb') as f:\n",
    "        pickle.dump(training_hist, f)\n",
    "    with open(q_output_path, 'wb') as f:\n",
    "        pickle.dump(q_hist, f)   \n",
    "        \n"
   ]
  },
  {
   "cell_type": "code",
   "execution_count": 7,
   "metadata": {},
   "outputs": [
    {
     "name": "stdout",
     "output_type": "stream",
     "text": [
      "496498\n",
      "91\n",
      "2\n",
      "[([(0, 0), 'up', (0, 1), 'left', (0, 1), 'down', (0, 0), 'right', (1, 0), 'up', (1, 1), 'down', (1, 0), 'up', (1, 1), 'right', (2, 1), 'left', (1, 1), 'up', (1, 2), 'up', (1, 3), 'left', (0, 3), 'down', (0, 2), 'right', (1, 2), 'down', (1, 1), 'left', (0, 1), 'right', (1, 1), 'right', (2, 1), 'up', (2, 2), 'down', (2, 1), 'down', (2, 0), 'up', (2, 1), 'right', (3, 1), 'right', (4, 1), 'up', (4, 2), 'down', (4, 1), 'left', (3, 1), 'down', (3, 0), 'right', (4, 0), 'left', (3, 0), 'down', (3, 0), 'left', (2, 0), 'left', (1, 0), 'up', (1, 1), 'up', (1, 2), 'right', (2, 2), 'right', (3, 2), 'up', (3, 3), 'down', (3, 2), 'down', (3, 1), 'right', (4, 1), 'up', (4, 2), 'up', (4, 3), 'left', (3, 3), 'right', (4, 3), 'down', (4, 2), 'up', (4, 3), 'right', (5, 3), 'down', (5, 2), 'left', (4, 2), 'right', (5, 2), 'right', (6, 2), 'up', (6, 3), 'left', (5, 3), 'right', (6, 3), 'up', (6, 4), 'right', (7, 4), 'down', (7, 3), 'left', (6, 3), 'right', (7, 3), 'up', (7, 4), 'right', (8, 4), 'down', (8, 3), 'down', (8, 2), 'up', (8, 3), 'right', (8, 3), 'up', (8, 4), 'down', (8, 3), 'left', (7, 3), 'up', (7, 4), 'left', (6, 4), 'left', (5, 4), 'right', (6, 4), 'down', (6, 3), 'down', (6, 2), 'left', (5, 2), 'down', (5, 1), 'left', (4, 1), 'down', (4, 0), 'down', (4, 0), 'right', (5, 0), 'right', (6, 0), 'down', (6, 0), 'up', (6, 1), 'up', (6, 2), 'down', (6, 1), 'left', (5, 1), 'up', (5, 2), 'up', (5, 3), 'left', (4, 3)], ['up', (0, 1), 'left', (0, 1), 'down', (0, 0), 'right', (1, 0), 'up', (1, 1), 'down', (1, 0), 'up', (1, 1), 'right', (2, 1), 'left', (1, 1), 'up', (1, 2), 'up', (1, 3), 'left', (0, 3), 'down', (0, 2), 'right', (1, 2), 'down', (1, 1), 'left', (0, 1), 'right', (1, 1), 'right', (2, 1), 'up', (2, 2), 'down', (2, 1), 'down', (2, 0), 'up', (2, 1), 'right', (3, 1), 'right', (4, 1), 'up', (4, 2), 'down', (4, 1), 'left', (3, 1), 'down', (3, 0), 'right', (4, 0), 'left', (3, 0), 'down', (3, 0), 'left', (2, 0), 'left', (1, 0), 'up', (1, 1), 'up', (1, 2), 'right', (2, 2), 'right', (3, 2), 'up', (3, 3), 'down', (3, 2), 'down', (3, 1), 'right', (4, 1), 'up', (4, 2), 'up', (4, 3), 'left', (3, 3), 'right', (4, 3), 'down', (4, 2), 'up', (4, 3), 'right', (5, 3), 'down', (5, 2), 'left', (4, 2), 'right', (5, 2), 'right', (6, 2), 'up', (6, 3), 'left', (5, 3), 'right', (6, 3), 'up', (6, 4), 'right', (7, 4), 'down', (7, 3), 'left', (6, 3), 'right', (7, 3), 'up', (7, 4), 'right', (8, 4), 'down', (8, 3), 'down', (8, 2), 'up', (8, 3), 'right', (8, 3), 'up', (8, 4), 'down', (8, 3), 'left', (7, 3), 'up', (7, 4), 'left', (6, 4), 'left', (5, 4), 'right', (6, 4), 'down', (6, 3), 'down', (6, 2), 'left', (5, 2), 'down', (5, 1), 'left', (4, 1), 'down', (4, 0), 'down', (4, 0), 'right', (5, 0), 'right', (6, 0), 'down', (6, 0), 'up', (6, 1), 'up', (6, 2), 'down', (6, 1), 'left', (5, 1), 'up', (5, 2), 'up', (5, 3), 'left', (4, 3), 'up']), ([(0, 0), 'down', (0, 0), 'left', (0, 0), 'up', (0, 1), 'up', (0, 2), 'up', (0, 3), 'down', (0, 2), 'left', (0, 2), 'down', (0, 1), 'left', (0, 1), 'right', (1, 1), 'left', (0, 1), 'up', (0, 2), 'up', (0, 3), 'left', (0, 3), 'right', (1, 3), 'left', (0, 3), 'left', (0, 3), 'up', (0, 4), 'down', (0, 3), 'right', (1, 3), 'right', (2, 3), 'down', (2, 2), 'up', (2, 3), 'left', (1, 3), 'down', (1, 2), 'left', (0, 2), 'left', (0, 2), 'right', (1, 2), 'up', (1, 3), 'up', (1, 4), 'down', (1, 3), 'left', (0, 3), 'left', (0, 3), 'up', (0, 4), 'left', (0, 4), 'up', (0, 5), 'down', (0, 4), 'down', (0, 3), 'right', (1, 3), 'up', (1, 4), 'left', (0, 4), 'right', (1, 4), 'up', (1, 5), 'up', (1, 6), 'right', (2, 6), 'down', (2, 5), 'up', (2, 6), 'up', (2, 7), 'up', (2, 8), 'left', (1, 8), 'up', (1, 8), 'left', (0, 8), 'up', (0, 8), 'down', (0, 7), 'left', (0, 7), 'up', (0, 8), 'right', (1, 8), 'down', (1, 7), 'left', (0, 7), 'right', (1, 7), 'left', (0, 7), 'left', (0, 7), 'down', (0, 6), 'up', (0, 7), 'up', (0, 8), 'left', (0, 8), 'left', (0, 8), 'right', (1, 8), 'left', (0, 8), 'up', (0, 8), 'down', (0, 7), 'right', (1, 7), 'right', (2, 7), 'right', (3, 7), 'right', (4, 7), 'right', (5, 7), 'right', (6, 7), 'left', (5, 7), 'left', (4, 7), 'up', (4, 8), 'down', (4, 7), 'down', (4, 6), 'right', (5, 6), 'right', (6, 6), 'left', (5, 6), 'up', (5, 7), 'up', (5, 8), 'down', (5, 7), 'down', (5, 6), 'down', (5, 5), 'down', (5, 4)], ['down', (0, 0), 'left', (0, 0), 'up', (0, 1), 'up', (0, 2), 'up', (0, 3), 'down', (0, 2), 'left', (0, 2), 'down', (0, 1), 'left', (0, 1), 'right', (1, 1), 'left', (0, 1), 'up', (0, 2), 'up', (0, 3), 'left', (0, 3), 'right', (1, 3), 'left', (0, 3), 'left', (0, 3), 'up', (0, 4), 'down', (0, 3), 'right', (1, 3), 'right', (2, 3), 'down', (2, 2), 'up', (2, 3), 'left', (1, 3), 'down', (1, 2), 'left', (0, 2), 'left', (0, 2), 'right', (1, 2), 'up', (1, 3), 'up', (1, 4), 'down', (1, 3), 'left', (0, 3), 'left', (0, 3), 'up', (0, 4), 'left', (0, 4), 'up', (0, 5), 'down', (0, 4), 'down', (0, 3), 'right', (1, 3), 'up', (1, 4), 'left', (0, 4), 'right', (1, 4), 'up', (1, 5), 'up', (1, 6), 'right', (2, 6), 'down', (2, 5), 'up', (2, 6), 'up', (2, 7), 'up', (2, 8), 'left', (1, 8), 'up', (1, 8), 'left', (0, 8), 'up', (0, 8), 'down', (0, 7), 'left', (0, 7), 'up', (0, 8), 'right', (1, 8), 'down', (1, 7), 'left', (0, 7), 'right', (1, 7), 'left', (0, 7), 'left', (0, 7), 'down', (0, 6), 'up', (0, 7), 'up', (0, 8), 'left', (0, 8), 'left', (0, 8), 'right', (1, 8), 'left', (0, 8), 'up', (0, 8), 'down', (0, 7), 'right', (1, 7), 'right', (2, 7), 'right', (3, 7), 'right', (4, 7), 'right', (5, 7), 'right', (6, 7), 'left', (5, 7), 'left', (4, 7), 'up', (4, 8), 'down', (4, 7), 'down', (4, 6), 'right', (5, 6), 'right', (6, 6), 'left', (5, 6), 'up', (5, 7), 'up', (5, 8), 'down', (5, 7), 'down', (5, 6), 'down', (5, 5), 'down', (5, 4), 'left']), ([(0, 0), 'right', (1, 0), 'right', (2, 0), 'down', (2, 0), 'right', (3, 0), 'left', (2, 0), 'down', (2, 0), 'left', (1, 0), 'down', (1, 0), 'left', (0, 0), 'up', (0, 1), 'left', (0, 1), 'right', (1, 1), 'down', (1, 0), 'right', (2, 0), 'up', (2, 1), 'down', (2, 0), 'right', (3, 0), 'right', (4, 0), 'up', (4, 1), 'up', (4, 2), 'left', (3, 2), 'down', (3, 1), 'up', (3, 2), 'right', (4, 2), 'down', (4, 1), 'up', (4, 2), 'up', (4, 3)], ['right', (1, 0), 'right', (2, 0), 'down', (2, 0), 'right', (3, 0), 'left', (2, 0), 'down', (2, 0), 'left', (1, 0), 'down', (1, 0), 'left', (0, 0), 'up', (0, 1), 'left', (0, 1), 'right', (1, 1), 'down', (1, 0), 'right', (2, 0), 'up', (2, 1), 'down', (2, 0), 'right', (3, 0), 'right', (4, 0), 'up', (4, 1), 'up', (4, 2), 'left', (3, 2), 'down', (3, 1), 'up', (3, 2), 'right', (4, 2), 'down', (4, 1), 'up', (4, 2), 'up', (4, 3), 'up']), ([(0, 0), 'down', (0, 0), 'left', (0, 0), 'right', (1, 0), 'down', (1, 0), 'down', (1, 0), 'left', (0, 0), 'up', (0, 1), 'down', (0, 0), 'right', (1, 0), 'right', (2, 0), 'down', (2, 0), 'left', (1, 0), 'up', (1, 1), 'up', (1, 2), 'right', (2, 2), 'left', (1, 2), 'down', (1, 1), 'right', (2, 1), 'left', (1, 1), 'down', (1, 0), 'right', (2, 0), 'up', (2, 1), 'up', (2, 2), 'right', (3, 2), 'left', (2, 2), 'up', (2, 3), 'right', (3, 3), 'left', (2, 3), 'up', (2, 4), 'down', (2, 3), 'right', (3, 3), 'up', (3, 4)], ['down', (0, 0), 'left', (0, 0), 'right', (1, 0), 'down', (1, 0), 'down', (1, 0), 'left', (0, 0), 'up', (0, 1), 'down', (0, 0), 'right', (1, 0), 'right', (2, 0), 'down', (2, 0), 'left', (1, 0), 'up', (1, 1), 'up', (1, 2), 'right', (2, 2), 'left', (1, 2), 'down', (1, 1), 'right', (2, 1), 'left', (1, 1), 'down', (1, 0), 'right', (2, 0), 'up', (2, 1), 'up', (2, 2), 'right', (3, 2), 'left', (2, 2), 'up', (2, 3), 'right', (3, 3), 'left', (2, 3), 'up', (2, 4), 'down', (2, 3), 'right', (3, 3), 'up', (3, 4), 'right']), ([(0, 0), 'down', (0, 0), 'left', (0, 0), 'up', (0, 1), 'up', (0, 2), 'down', (0, 1), 'right', (1, 1), 'left', (0, 1), 'left', (0, 1), 'left', (0, 1), 'up', (0, 2), 'down', (0, 1), 'down', (0, 0), 'right', (1, 0), 'up', (1, 1), 'right', (2, 1), 'right', (3, 1), 'left', (2, 1), 'up', (2, 2), 'down', (2, 1), 'down', (2, 0), 'right', (3, 0), 'left', (2, 0), 'up', (2, 1), 'left', (1, 1), 'up', (1, 2), 'left', (0, 2), 'up', (0, 3), 'down', (0, 2), 'right', (1, 2), 'up', (1, 3), 'left', (0, 3), 'up', (0, 4), 'left', (0, 4), 'up', (0, 5), 'left', (0, 5), 'right', (1, 5), 'left', (0, 5), 'up', (0, 6), 'down', (0, 5), 'left', (0, 5), 'down', (0, 4), 'down', (0, 3), 'left', (0, 3), 'right', (1, 3), 'right', (2, 3), 'left', (1, 3), 'down', (1, 2), 'right', (2, 2), 'left', (1, 2), 'right', (2, 2), 'up', (2, 3), 'up', (2, 4), 'left', (1, 4), 'right', (2, 4), 'right', (3, 4)], ['down', (0, 0), 'left', (0, 0), 'up', (0, 1), 'up', (0, 2), 'down', (0, 1), 'right', (1, 1), 'left', (0, 1), 'left', (0, 1), 'left', (0, 1), 'up', (0, 2), 'down', (0, 1), 'down', (0, 0), 'right', (1, 0), 'up', (1, 1), 'right', (2, 1), 'right', (3, 1), 'left', (2, 1), 'up', (2, 2), 'down', (2, 1), 'down', (2, 0), 'right', (3, 0), 'left', (2, 0), 'up', (2, 1), 'left', (1, 1), 'up', (1, 2), 'left', (0, 2), 'up', (0, 3), 'down', (0, 2), 'right', (1, 2), 'up', (1, 3), 'left', (0, 3), 'up', (0, 4), 'left', (0, 4), 'up', (0, 5), 'left', (0, 5), 'right', (1, 5), 'left', (0, 5), 'up', (0, 6), 'down', (0, 5), 'left', (0, 5), 'down', (0, 4), 'down', (0, 3), 'left', (0, 3), 'right', (1, 3), 'right', (2, 3), 'left', (1, 3), 'down', (1, 2), 'right', (2, 2), 'left', (1, 2), 'right', (2, 2), 'up', (2, 3), 'up', (2, 4), 'left', (1, 4), 'right', (2, 4), 'right', (3, 4), 'right']), ([(0, 0), 'right', (1, 0), 'left', (0, 0), 'up', (0, 1), 'up', (0, 2), 'right', (1, 2), 'up', (1, 3), 'right', (2, 3), 'down', (2, 2), 'right', (3, 2), 'up', (3, 3), 'up', (3, 4)], ['right', (1, 0), 'left', (0, 0), 'up', (0, 1), 'up', (0, 2), 'right', (1, 2), 'up', (1, 3), 'right', (2, 3), 'down', (2, 2), 'right', (3, 2), 'up', (3, 3), 'up', (3, 4), 'right']), ([(0, 0), 'down', (0, 0), 'left', (0, 0), 'right', (1, 0), 'down', (1, 0), 'right', (2, 0), 'down', (2, 0), 'left', (1, 0), 'up', (1, 1), 'down', (1, 0), 'down', (1, 0), 'right', (2, 0), 'up', (2, 1), 'right', (3, 1), 'down', (3, 0), 'down', (3, 0), 'up', (3, 1), 'right', (4, 1), 'right', (5, 1), 'down', (5, 0), 'up', (5, 1), 'right', (6, 1), 'right', (7, 1), 'right', (8, 1), 'right', (8, 1), 'up', (8, 2), 'down', (8, 1), 'right', (8, 1), 'down', (8, 0), 'up', (8, 1), 'left', (7, 1), 'up', (7, 2), 'left', (6, 2), 'down', (6, 1), 'down', (6, 0), 'right', (7, 0), 'up', (7, 1), 'left', (6, 1), 'up', (6, 2), 'up', (6, 3), 'left', (5, 3), 'right', (6, 3), 'up', (6, 4), 'left', (5, 4)], ['down', (0, 0), 'left', (0, 0), 'right', (1, 0), 'down', (1, 0), 'right', (2, 0), 'down', (2, 0), 'left', (1, 0), 'up', (1, 1), 'down', (1, 0), 'down', (1, 0), 'right', (2, 0), 'up', (2, 1), 'right', (3, 1), 'down', (3, 0), 'down', (3, 0), 'up', (3, 1), 'right', (4, 1), 'right', (5, 1), 'down', (5, 0), 'up', (5, 1), 'right', (6, 1), 'right', (7, 1), 'right', (8, 1), 'right', (8, 1), 'up', (8, 2), 'down', (8, 1), 'right', (8, 1), 'down', (8, 0), 'up', (8, 1), 'left', (7, 1), 'up', (7, 2), 'left', (6, 2), 'down', (6, 1), 'down', (6, 0), 'right', (7, 0), 'up', (7, 1), 'left', (6, 1), 'up', (6, 2), 'up', (6, 3), 'left', (5, 3), 'right', (6, 3), 'up', (6, 4), 'left', (5, 4), 'left']), ([(0, 0), 'up', (0, 1), 'right', (1, 1), 'down', (1, 0), 'left', (0, 0), 'down', (0, 0), 'right', (1, 0), 'up', (1, 1), 'right', (2, 1), 'up', (2, 2), 'down', (2, 1), 'down', (2, 0), 'right', (3, 0), 'right', (4, 0), 'left', (3, 0), 'down', (3, 0), 'up', (3, 1), 'up', (3, 2), 'up', (3, 3), 'up', (3, 4)], ['up', (0, 1), 'right', (1, 1), 'down', (1, 0), 'left', (0, 0), 'down', (0, 0), 'right', (1, 0), 'up', (1, 1), 'right', (2, 1), 'up', (2, 2), 'down', (2, 1), 'down', (2, 0), 'right', (3, 0), 'right', (4, 0), 'left', (3, 0), 'down', (3, 0), 'up', (3, 1), 'up', (3, 2), 'up', (3, 3), 'up', (3, 4), 'right']), ([(0, 0), 'left', (0, 0), 'up', (0, 1), 'down', (0, 0), 'right', (1, 0), 'right', (2, 0), 'down', (2, 0), 'right', (3, 0), 'right', (4, 0), 'down', (4, 0), 'right', (5, 0), 'down', (5, 0), 'left', (4, 0), 'up', (4, 1), 'down', (4, 0), 'down', (4, 0), 'right', (5, 0), 'right', (6, 0), 'left', (5, 0), 'up', (5, 1), 'left', (4, 1), 'left', (3, 1), 'up', (3, 2), 'up', (3, 3), 'up', (3, 4)], ['left', (0, 0), 'up', (0, 1), 'down', (0, 0), 'right', (1, 0), 'right', (2, 0), 'down', (2, 0), 'right', (3, 0), 'right', (4, 0), 'down', (4, 0), 'right', (5, 0), 'down', (5, 0), 'left', (4, 0), 'up', (4, 1), 'down', (4, 0), 'down', (4, 0), 'right', (5, 0), 'right', (6, 0), 'left', (5, 0), 'up', (5, 1), 'left', (4, 1), 'left', (3, 1), 'up', (3, 2), 'up', (3, 3), 'up', (3, 4), 'right']), ([(0, 0), 'up', (0, 1), 'left', (0, 1), 'up', (0, 2), 'down', (0, 1), 'right', (1, 1), 'up', (1, 2), 'left', (0, 2), 'left', (0, 2), 'up', (0, 3), 'right', (1, 3), 'down', (1, 2), 'down', (1, 1), 'right', (2, 1), 'left', (1, 1), 'left', (0, 1), 'left', (0, 1), 'up', (0, 2), 'right', (1, 2), 'up', (1, 3), 'up', (1, 4), 'right', (2, 4), 'up', (2, 5), 'down', (2, 4), 'right', (3, 4)], ['up', (0, 1), 'left', (0, 1), 'up', (0, 2), 'down', (0, 1), 'right', (1, 1), 'up', (1, 2), 'left', (0, 2), 'left', (0, 2), 'up', (0, 3), 'right', (1, 3), 'down', (1, 2), 'down', (1, 1), 'right', (2, 1), 'left', (1, 1), 'left', (0, 1), 'left', (0, 1), 'up', (0, 2), 'right', (1, 2), 'up', (1, 3), 'up', (1, 4), 'right', (2, 4), 'up', (2, 5), 'down', (2, 4), 'right', (3, 4), 'right'])]\n"
     ]
    }
   ],
   "source": [
    "# with open(os.path.join(path, 'qhist00.pkl'), 'rb') as f:\n",
    "#     test = pickle.load(f)\n",
    "#     print(len(test))\n",
    "#     print(len(test[0]))\n",
    "#     print(len(test[0][0]))\n",
    "# with open(os.path.join(path, 'train00.pkl'), 'rb') as f:\n",
    "#     test = pickle.load(f)\n",
    "#     print(test[:10])\n"
   ]
  }
 ],
 "metadata": {
  "kernelspec": {
   "display_name": "Python 3",
   "language": "python",
   "name": "python3"
  },
  "language_info": {
   "codemirror_mode": {
    "name": "ipython",
    "version": 3
   },
   "file_extension": ".py",
   "mimetype": "text/x-python",
   "name": "python",
   "nbconvert_exporter": "python",
   "pygments_lexer": "ipython3",
   "version": "3.10.13"
  }
 },
 "nbformat": 4,
 "nbformat_minor": 2
}
