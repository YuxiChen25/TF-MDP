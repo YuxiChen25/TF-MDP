{
 "cells": [
  {
   "cell_type": "code",
   "execution_count": 1,
   "metadata": {},
   "outputs": [],
   "source": [
    "import pickle\n",
    "import os"
   ]
  },
  {
   "cell_type": "code",
   "execution_count": 2,
   "metadata": {},
   "outputs": [],
   "source": [
    "#path should be what the directory of data is \n",
    "path = ''"
   ]
  },
  {
   "cell_type": "code",
   "execution_count": 3,
   "metadata": {},
   "outputs": [],
   "source": [
    "with open(os.path.join(path, 'Agent_Batch_(0, 0).pkl'), 'rb') as f:\n",
    "    batch00 = pickle.load(f)\n",
    "with open(os.path.join(path, 'Agent_Batch_(0, 8).pkl'), 'rb') as f:\n",
    "    batch08 = pickle.load(f)\n",
    "with open(os.path.join(path, 'Agent_Batch_(8, 0).pkl'), 'rb') as f:\n",
    "    batch80 = pickle.load(f)\n",
    "with open(os.path.join(path, 'Agent_Batch_(8, 8).pkl'), 'rb') as f:\n",
    "    batch88 = pickle.load(f)"
   ]
  },
  {
   "cell_type": "code",
   "execution_count": 4,
   "metadata": {},
   "outputs": [],
   "source": [
    "def generate_xy_pair (episode):\n",
    "\n",
    "    # Generates XY Pairs\n",
    "    # By Shifting Indices \n",
    "    # Off-By-One\n",
    "\n",
    "    seq = []\n",
    "    for step in episode:\n",
    "        seq.append(step[0][0])\n",
    "        seq.append(step[1])\n",
    "    \n",
    "    return (seq[:-1], seq[1:])"
   ]
  },
  {
   "cell_type": "code",
   "execution_count": 5,
   "metadata": {},
   "outputs": [],
   "source": [
    "train00 = []\n",
    "qhist00 = []\n",
    "\n",
    "for agent in batch00:\n",
    "    for episode in agent:\n",
    "        xy_pair = generate_xy_pair(episode)\n",
    "        if len(xy_pair[0]) < 200:\n",
    "            train00.append(generate_xy_pair(episode))\n",
    "            qhist00.append(episode)\n",
    "\n",
    "train08 = []\n",
    "qhist08 = []\n",
    "\n",
    "for agent in batch08:\n",
    "    for episode in agent:\n",
    "        xy_pair = generate_xy_pair(episode)\n",
    "        if len(xy_pair[0]) < 200:\n",
    "            train08.append(generate_xy_pair(episode))\n",
    "            qhist08.append(episode)\n",
    "\n",
    "train80 = []\n",
    "qhist80 = []\n",
    "\n",
    "for agent in batch80:\n",
    "    for episode in agent:\n",
    "        xy_pair = generate_xy_pair(episode)\n",
    "        if len(xy_pair[0]) < 200:\n",
    "            train80.append(generate_xy_pair(episode))\n",
    "            qhist80.append(episode)\n",
    "\n",
    "train88 = []\n",
    "qhist88 = []\n",
    "\n",
    "for agent in batch88:\n",
    "    for episode in agent:\n",
    "        xy_pair = generate_xy_pair(episode)\n",
    "        if len(xy_pair[0]) < 200:\n",
    "            train88.append(generate_xy_pair(episode))\n",
    "            qhist88.append(episode)"
   ]
  },
  {
   "cell_type": "code",
   "execution_count": 6,
   "metadata": {},
   "outputs": [],
   "source": [
    "with open(os.path.join(path, 'train00.pkl'), 'wb') as f:\n",
    "    pickle.dump(train00, f)\n",
    "with open(os.path.join(path, 'train08.pkl'), 'wb') as f:\n",
    "    pickle.dump(train08, f)\n",
    "with open(os.path.join(path, 'train80.pkl'), 'wb') as f:\n",
    "    pickle.dump(train80, f)\n",
    "with open(os.path.join(path, 'train88.pkl'), 'wb') as f:\n",
    "    pickle.dump(train88, f)"
   ]
  },
  {
   "cell_type": "code",
   "execution_count": 7,
   "metadata": {},
   "outputs": [],
   "source": [
    "with open(os.path.join(path, 'qhist00.pkl'), 'wb') as f:\n",
    "    pickle.dump(qhist00, f)\n",
    "with open(os.path.join(path, 'qhist08.pkl'), 'wb') as f:\n",
    "    pickle.dump(qhist08, f)\n",
    "with open(os.path.join(path, 'qhist80.pkl'), 'wb') as f:\n",
    "    pickle.dump(qhist80, f)\n",
    "with open(os.path.join(path, 'qhist88.pkl'), 'wb') as f:\n",
    "    pickle.dump(qhist88, f)"
   ]
  }
 ],
 "metadata": {
  "kernelspec": {
   "display_name": "Python 3",
   "language": "python",
   "name": "python3"
  },
  "language_info": {
   "codemirror_mode": {
    "name": "ipython",
    "version": 3
   },
   "file_extension": ".py",
   "mimetype": "text/x-python",
   "name": "python",
   "nbconvert_exporter": "python",
   "pygments_lexer": "ipython3",
   "version": "3.12.1"
  }
 },
 "nbformat": 4,
 "nbformat_minor": 2
}
